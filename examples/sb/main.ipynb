{
 "cells": [
  {
   "cell_type": "code",
   "execution_count": null,
   "metadata": {},
   "outputs": [],
   "source": [
    "!pip install -q scipy matplotlib\n",
    "import torch_kan, torch\n",
    "import matplotlib.pyplot as plt\n",
    "from scipy.interpolate import BSpline"
   ]
  },
  {
   "cell_type": "code",
   "execution_count": null,
   "metadata": {},
   "outputs": [],
   "source": [
    "# B Splines parameters\n",
    "B = 26\n",
    "inDim = 9\n",
    "k = 2\n",
    "\n",
    "# B Splines inputs :\n",
    "# -> x : x-axis evaluation points of the estimated BSplines curve\n",
    "# -> cp : control points of BSplines\n",
    "nEval = 1600\n",
    "xr = torch.linspace(0, 1, nEval).unsqueeze(0).expand(B, -1)\n",
    "cp = torch.rand(B, inDim)\n",
    "\n",
    "# Note that B-Splines are estimated for inDim regular control points inside [0,1]\n",
    "splines = torch_kan.BatchedBSplines(inDim, k)\n",
    "ans = splines(xr, cp)\n",
    "for b in range(B):\n",
    "    plt.plot(xr[b], ans[b], \"r-\", lw=4, alpha=0.5, label=\"de Boor\")\n",
    "    plt.plot(\n",
    "        xr[b],\n",
    "        BSpline(splines.t.numpy(), cp[b], k)(\n",
    "            xr[b]\n",
    "        ),  # We check that the generated B-splines are correct with scipy implementation\n",
    "        \"b-\",\n",
    "        lw=4,\n",
    "        alpha=0.5,\n",
    "        label=\"GT BSpline\",\n",
    "    )\n",
    "    plt.scatter(splines.t[k:-k], cp[b, :-1])\n",
    "    plt.legend(loc=\"best\")\n",
    "    plt.show()"
   ]
  },
  {
   "cell_type": "code",
   "execution_count": null,
   "metadata": {},
   "outputs": [],
   "source": []
  }
 ],
 "metadata": {
  "kernelspec": {
   "display_name": ".venv",
   "language": "python",
   "name": "python3"
  },
  "language_info": {
   "codemirror_mode": {
    "name": "ipython",
    "version": 3
   },
   "file_extension": ".py",
   "mimetype": "text/x-python",
   "name": "python",
   "nbconvert_exporter": "python",
   "pygments_lexer": "ipython3",
   "version": "3.10.14"
  }
 },
 "nbformat": 4,
 "nbformat_minor": 2
}
