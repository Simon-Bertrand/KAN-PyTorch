{
 "cells": [
  {
   "cell_type": "code",
   "execution_count": 1,
   "metadata": {},
   "outputs": [
    {
     "name": "stdout",
     "output_type": "stream",
     "text": [
      "\n",
      "\u001b[1m[\u001b[0m\u001b[34;49mnotice\u001b[0m\u001b[1;39;49m]\u001b[0m\u001b[39;49m A new release of pip is available: \u001b[0m\u001b[31;49m23.2.1\u001b[0m\u001b[39;49m -> \u001b[0m\u001b[32;49m24.0\u001b[0m\n",
      "\u001b[1m[\u001b[0m\u001b[34;49mnotice\u001b[0m\u001b[1;39;49m]\u001b[0m\u001b[39;49m To update, run: \u001b[0m\u001b[32;49mpip install --upgrade pip\u001b[0m\n"
     ]
    }
   ],
   "source": [
    "!pip install -q scipy matplotlib\n",
    "import torch_kan, torch\n",
    "import matplotlib.pyplot as plt\n",
    "\n",
    "from torch import nn\n",
    "\n",
    "\n",
    "# class BatchedBSplines(nn.Module):\n",
    "#     \"\"\"\n",
    "#     Batched B-Splines module for evaluating B-spline interpolation on batches of data.\n",
    "\n",
    "#     Args:\n",
    "#       inDim (int): Number of control points\n",
    "#       k (int): Degree of B-spline.\n",
    "\n",
    "#     Attributes:\n",
    "#       t (torch.Tensor): Padded x-axis knots (inDim+2*k, ).\n",
    "#     \"\"\"\n",
    "\n",
    "#     def __init__(self, inDim: int, k: int):\n",
    "#         super().__init__()\n",
    "#         if not isinstance(k, int):\n",
    "#             raise ValueError(\n",
    "#                 f\"The degree k of B-spline must be an integer. Current : {k}\"\n",
    "#             )\n",
    "#         self.k = k\n",
    "#         if not isinstance(inDim, int):\n",
    "#             raise ValueError(\n",
    "#                 f\"The number of control points (inDim) must be an integer. Current : {inDim}\"\n",
    "#             )\n",
    "#         self.m = inDim - 1\n",
    "#         self.t = torch.arange(-self.k, self.m + self.k) / (self.m - 1)\n",
    "\n",
    "#     def forward(self, x: torch.Tensor, cp: torch.Tensor) -> torch.Tensor:\n",
    "#         \"\"\"\n",
    "#         Forward pass method to compute batched B-spline interpolation.\n",
    "\n",
    "#         Args:\n",
    "#             x (torch.Tensor): Input tensor of shape (*, inDim, nEval).\n",
    "#             cp (torch.Tensor): Control points tensor of shape (*, inDim, outDim, nCpts).\n",
    "\n",
    "#         Returns:\n",
    "#             torch.Tensor: Evaluated B-spline interpolation of shape (*, inDim, outDim, nEval).\n",
    "#         \"\"\"\n",
    "#         assert (\n",
    "#             cp.size(-1) == self.m + 1\n",
    "#         ), \"Control points must have m+1 element in the last dimension\"\n",
    "\n",
    "#         # Pads the control points with k-1 last elements -> (*, inDim, outDim, nCpts + k-1)\n",
    "#         paddedCp = torch.cat(\n",
    "#             [cp, cp[..., -1:].expand(*((cp.ndim - 1) * [-1]), self.k - 1)], dim=-1\n",
    "#         )\n",
    "#         # Gets the bin indices that contains x -> (*, inDim, nEval)\n",
    "#         leftRange = (self.t.unsqueeze(-2) > x.clamp(0, 1).unsqueeze(-1)).float().argmax(\n",
    "#             -1\n",
    "#         ) - 1\n",
    "#         # Create batched indices slices : B times a corresponding slice(m-k, m+1) -> (*, inDim, nEval, k)\n",
    "#         slicesIndices = leftRange.unsqueeze(-1) + torch.arange(-self.k, 1).unsqueeze(-2)\n",
    "#         # Duplicate indices along outDim -> (*, inDim,outDim, nEval, k)\n",
    "#         slicesIndices = slicesIndices.unsqueeze(-3).expand(\n",
    "#             *((len(slicesIndices.shape[:-2]) * [-1]) + [paddedCp.size(-2), -1, -1])\n",
    "#         )\n",
    "#         # Retrieve from control points all the batched slices -> (*, inDim,outDim, nEval, k)\n",
    "#         d = paddedCp.gather(-1, slicesIndices.flatten(-2)).unflatten(\n",
    "#             -1, (slicesIndices.shape[-2:])\n",
    "#         )\n",
    "#         # Proceed to optimized batched de Boor algorithm\n",
    "#         for r in range(1, self.k + 1):\n",
    "#             for j in range(self.k, r - 1, -1):\n",
    "#                 alphas = (\n",
    "#                     (x - self.t[j + leftRange - self.k])\n",
    "#                     / (self.t[j + 1 + leftRange - r] - self.t[j + leftRange - self.k])\n",
    "#                 ).unsqueeze(-2)\n",
    "#                 d[..., j] = (1.0 - alphas) * d[..., j - 1] + alphas * d[..., j]\n",
    "#         return d[..., self.k]"
   ]
  },
  {
   "cell_type": "code",
   "execution_count": null,
   "metadata": {},
   "outputs": [],
   "source": []
  },
  {
   "cell_type": "code",
   "execution_count": 2,
   "metadata": {},
   "outputs": [],
   "source": [
    "# # B Splines parameters\n",
    "# nEval = 16\n",
    "# nCps = 8\n",
    "# inDim, outDim = 5, 9\n",
    "# k = 2\n",
    "# # Note that B-Splines are estimated for inDim regular control points inside [0,1]\n",
    "\n",
    "# xr = torch.linspace(0, 1, nEval).unsqueeze(0).expand(inDim, -1)\n",
    "# cp = torch.rand(inDim, outDim, nCps)\n",
    "\n",
    "# # # Note that B-Splines are estimated for inDim regular control points inside [0,1]\n",
    "# splines = BatchedBSplines(nCps, k)\n",
    "# ans = splines(xr, cp)\n",
    "\n",
    "# i = 4\n",
    "# j = 1\n",
    "# plt.plot(xr[i], ans[i, j], \"r-\", lw=4, alpha=0.5, label=\"de Boor\")\n",
    "# plt.plot(\n",
    "#     xr[0],\n",
    "#     BSpline(splines.t.numpy(), cp[i, j], k)(\n",
    "#         xr[i]\n",
    "#     ),  # We check that the generated B-splines are correct with scipy implementation\n",
    "#     \"b-\",\n",
    "#     lw=4,\n",
    "#     alpha=0.5,\n",
    "#     label=\"GT BSpline\",\n",
    "# )\n",
    "# plt.scatter(splines.t[k:-k], cp[i, 0, :-1])\n",
    "# plt.legend(loc=\"best\")\n",
    "# plt.show()"
   ]
  },
  {
   "cell_type": "code",
   "execution_count": 3,
   "metadata": {},
   "outputs": [],
   "source": [
    "from torch import nn\n",
    "import torch_kan\n",
    "import torch"
   ]
  },
  {
   "cell_type": "code",
   "execution_count": null,
   "metadata": {},
   "outputs": [],
   "source": []
  },
  {
   "cell_type": "code",
   "execution_count": 7,
   "metadata": {},
   "outputs": [
    {
     "ename": "ValueError",
     "evalue": "Knots, coefficients and degree are inconsistent.",
     "output_type": "error",
     "traceback": [
      "\u001b[0;31m---------------------------------------------------------------------------\u001b[0m",
      "\u001b[0;31mValueError\u001b[0m                                Traceback (most recent call last)",
      "Cell \u001b[0;32mIn[7], line 36\u001b[0m\n\u001b[1;32m     32\u001b[0m     plt\u001b[38;5;241m.\u001b[39mlegend(loc\u001b[38;5;241m=\u001b[39m\u001b[38;5;124m\"\u001b[39m\u001b[38;5;124mbest\u001b[39m\u001b[38;5;124m\"\u001b[39m)\n\u001b[1;32m     33\u001b[0m     plt\u001b[38;5;241m.\u001b[39mshow()\n\u001b[0;32m---> 36\u001b[0m \u001b[43mplotSpline\u001b[49m\u001b[43m(\u001b[49m\u001b[43mspl\u001b[49m\u001b[43m,\u001b[49m\u001b[43m \u001b[49m\u001b[38;5;241;43m0\u001b[39;49m\u001b[43m,\u001b[49m\u001b[43m \u001b[49m\u001b[38;5;241;43m0\u001b[39;49m\u001b[43m,\u001b[49m\u001b[43m \u001b[49m\u001b[38;5;241;43m1\u001b[39;49m\u001b[43m,\u001b[49m\u001b[43m \u001b[49m\u001b[38;5;241;43m2\u001b[39;49m\u001b[43m)\u001b[49m\n",
      "Cell \u001b[0;32mIn[7], line 23\u001b[0m, in \u001b[0;36mplotSpline\u001b[0;34m(splines, b, inDim, i, j)\u001b[0m\n\u001b[1;32m     11\u001b[0m \u001b[38;5;28;01mfrom\u001b[39;00m \u001b[38;5;21;01mscipy\u001b[39;00m\u001b[38;5;21;01m.\u001b[39;00m\u001b[38;5;21;01minterpolate\u001b[39;00m \u001b[38;5;28;01mimport\u001b[39;00m BSpline\n\u001b[1;32m     13\u001b[0m plt\u001b[38;5;241m.\u001b[39mplot(\n\u001b[1;32m     14\u001b[0m     x[b, inDim]\u001b[38;5;241m.\u001b[39mdetach(),\n\u001b[1;32m     15\u001b[0m     splines[b, i, j]\u001b[38;5;241m.\u001b[39mdetach(),\n\u001b[0;32m   (...)\u001b[0m\n\u001b[1;32m     19\u001b[0m     label\u001b[38;5;241m=\u001b[39m\u001b[38;5;124m\"\u001b[39m\u001b[38;5;124mde Boor\u001b[39m\u001b[38;5;124m\"\u001b[39m,\n\u001b[1;32m     20\u001b[0m )\n\u001b[1;32m     21\u001b[0m plt\u001b[38;5;241m.\u001b[39mplot(\n\u001b[1;32m     22\u001b[0m     x[b, inDim],\n\u001b[0;32m---> 23\u001b[0m     \u001b[43mBSpline\u001b[49m\u001b[43m(\u001b[49m\u001b[43mkan\u001b[49m\u001b[38;5;241;43m.\u001b[39;49m\u001b[43msplines\u001b[49m\u001b[38;5;241;43m.\u001b[39;49m\u001b[43mt\u001b[49m\u001b[38;5;241;43m.\u001b[39;49m\u001b[43mdetach\u001b[49m\u001b[43m(\u001b[49m\u001b[43m)\u001b[49m\u001b[43m,\u001b[49m\u001b[43m \u001b[49m\u001b[43mkan\u001b[49m\u001b[38;5;241;43m.\u001b[39;49m\u001b[43mcps\u001b[49m\u001b[43m[\u001b[49m\u001b[43mi\u001b[49m\u001b[43m,\u001b[49m\u001b[43m \u001b[49m\u001b[43mj\u001b[49m\u001b[43m]\u001b[49m\u001b[38;5;241;43m.\u001b[39;49m\u001b[43mdetach\u001b[49m\u001b[43m(\u001b[49m\u001b[43m)\u001b[49m\u001b[43m,\u001b[49m\u001b[43m \u001b[49m\u001b[43mk\u001b[49m\u001b[43m)\u001b[49m(\n\u001b[1;32m     24\u001b[0m         x[b, inDim]\n\u001b[1;32m     25\u001b[0m     ),  \u001b[38;5;66;03m# We check that the generated B-splines are correct with scipy implementation\u001b[39;00m\n\u001b[1;32m     26\u001b[0m     \u001b[38;5;124m\"\u001b[39m\u001b[38;5;124mb-\u001b[39m\u001b[38;5;124m\"\u001b[39m,\n\u001b[1;32m     27\u001b[0m     lw\u001b[38;5;241m=\u001b[39m\u001b[38;5;241m4\u001b[39m,\n\u001b[1;32m     28\u001b[0m     alpha\u001b[38;5;241m=\u001b[39m\u001b[38;5;241m0.5\u001b[39m,\n\u001b[1;32m     29\u001b[0m     label\u001b[38;5;241m=\u001b[39m\u001b[38;5;124m\"\u001b[39m\u001b[38;5;124mGT BSpline\u001b[39m\u001b[38;5;124m\"\u001b[39m,\n\u001b[1;32m     30\u001b[0m )\n\u001b[1;32m     31\u001b[0m plt\u001b[38;5;241m.\u001b[39mscatter(kan\u001b[38;5;241m.\u001b[39msplines\u001b[38;5;241m.\u001b[39mt[k:\u001b[38;5;241m-\u001b[39mk], kan\u001b[38;5;241m.\u001b[39mcps[i, j, :\u001b[38;5;241m-\u001b[39m\u001b[38;5;241m1\u001b[39m]\u001b[38;5;241m.\u001b[39mdetach())\n\u001b[1;32m     32\u001b[0m plt\u001b[38;5;241m.\u001b[39mlegend(loc\u001b[38;5;241m=\u001b[39m\u001b[38;5;124m\"\u001b[39m\u001b[38;5;124mbest\u001b[39m\u001b[38;5;124m\"\u001b[39m)\n",
      "File \u001b[0;32m~/Développement/repos/gits/torch-kan/.venv/lib64/python3.10/site-packages/scipy/interpolate/_bsplines.py:250\u001b[0m, in \u001b[0;36mBSpline.__init__\u001b[0;34m(self, t, c, k, extrapolate, axis)\u001b[0m\n\u001b[1;32m    248\u001b[0m     \u001b[38;5;28;01mraise\u001b[39;00m \u001b[38;5;167;01mValueError\u001b[39;00m(\u001b[38;5;124m\"\u001b[39m\u001b[38;5;124mCoefficients must be at least 1-dimensional.\u001b[39m\u001b[38;5;124m\"\u001b[39m)\n\u001b[1;32m    249\u001b[0m \u001b[38;5;28;01mif\u001b[39;00m \u001b[38;5;28mself\u001b[39m\u001b[38;5;241m.\u001b[39mc\u001b[38;5;241m.\u001b[39mshape[\u001b[38;5;241m0\u001b[39m] \u001b[38;5;241m<\u001b[39m n:\n\u001b[0;32m--> 250\u001b[0m     \u001b[38;5;28;01mraise\u001b[39;00m \u001b[38;5;167;01mValueError\u001b[39;00m(\u001b[38;5;124m\"\u001b[39m\u001b[38;5;124mKnots, coefficients and degree are inconsistent.\u001b[39m\u001b[38;5;124m\"\u001b[39m)\n\u001b[1;32m    252\u001b[0m dt \u001b[38;5;241m=\u001b[39m _get_dtype(\u001b[38;5;28mself\u001b[39m\u001b[38;5;241m.\u001b[39mc\u001b[38;5;241m.\u001b[39mdtype)\n\u001b[1;32m    253\u001b[0m \u001b[38;5;28mself\u001b[39m\u001b[38;5;241m.\u001b[39mc \u001b[38;5;241m=\u001b[39m np\u001b[38;5;241m.\u001b[39mascontiguousarray(\u001b[38;5;28mself\u001b[39m\u001b[38;5;241m.\u001b[39mc, dtype\u001b[38;5;241m=\u001b[39mdt)\n",
      "\u001b[0;31mValueError\u001b[0m: Knots, coefficients and degree are inconsistent."
     ]
    },
    {
     "data": {
      "image/png": "[encoded data removed]",
      "text/plain": [
       "<Figure size 640x480 with 1 Axes>"
      ]
     },
     "metadata": {},
     "output_type": "display_data"
    }
   ],
   "source": [
    "B = 15\n",
    "k = 3\n",
    "nEval = 250\n",
    "inDim, outDim = 5, 9\n",
    "kan = KANLayer(inDim, outDim, k, 6)\n",
    "x = torch.linspace(0, 1, nEval).unsqueeze(0).unsqueeze(0).expand(B, inDim, -1)\n",
    "spl = kan.splines(x, kan.cps)\n",
    "\n",
    "\n",
    "def plotSpline(splines, b, inDim, i, j):\n",
    "    from scipy.interpolate import BSpline\n",
    "\n",
    "    plt.plot(\n",
    "        x[b, inDim].detach(),\n",
    "        splines[b, i, j].detach(),\n",
    "        \"r-\",\n",
    "        lw=4,\n",
    "        alpha=0.5,\n",
    "        label=\"de Boor\",\n",
    "    )\n",
    "    plt.plot(\n",
    "        x[b, inDim],\n",
    "        BSpline(kan.splines.t.detach(), kan.cps[i, j].detach(), k)(\n",
    "            x[b, inDim]\n",
    "        ),  # We check that the generated B-splines are correct with scipy implementation\n",
    "        \"b-\",\n",
    "        lw=4,\n",
    "        alpha=0.5,\n",
    "        label=\"GT BSpline\",\n",
    "    )\n",
    "    plt.scatter(kan.splines.t[k:-k], kan.cps[i, j, :-1].detach())\n",
    "    plt.legend(loc=\"best\")\n",
    "    plt.show()\n",
    "\n",
    "\n",
    "plotSpline(spl, 0, 0, 1, 2)"
   ]
  }
 ],
 "metadata": {
  "kernelspec": {
   "display_name": ".venv",
   "language": "python",
   "name": "python3"
  },
  "language_info": {
   "codemirror_mode": {
    "name": "ipython",
    "version": 3
   },
   "file_extension": ".py",
   "mimetype": "text/x-python",
   "name": "python",
   "nbconvert_exporter": "python",
   "pygments_lexer": "ipython3",
   "version": "3.10.14"
  }
 },
 "nbformat": 4,
 "nbformat_minor": 2
}
